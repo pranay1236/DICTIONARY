{
 "cells": [
  {
   "cell_type": "markdown",
   "id": "828b64a6-37cb-4b6a-a13b-4e573bbecd5a",
   "metadata": {},
   "source": [
    "# 1) Write a Python script to sort (ascending and descending) a dictionary by value."
   ]
  },
  {
   "cell_type": "code",
   "execution_count": 2,
   "id": "946e98f6-9a96-4679-a438-36783967a6b5",
   "metadata": {},
   "outputs": [
    {
     "name": "stdout",
     "output_type": "stream",
     "text": [
      "Sorted Ascending: {3: 10, 2: 15, 1: 20}\n",
      "Sorted Descending: {1: 20, 2: 15, 3: 10}\n"
     ]
    }
   ],
   "source": [
    "def sort_dict_by_value(d, ascending=True):\n",
    "    return dict(sorted(d.items(), key=lambda item: item[1], reverse=not ascending))\n",
    "\n",
    "# Example\n",
    "sample_dict = {3: 10, 1: 20, 2: 15}\n",
    "sorted_ascending = sort_dict_by_value(sample_dict, ascending=True)\n",
    "sorted_descending = sort_dict_by_value(sample_dict, ascending=False)\n",
    "\n",
    "print(\"Sorted Ascending:\", sorted_ascending)\n",
    "print(\"Sorted Descending:\", sorted_descending)\n"
   ]
  },
  {
   "cell_type": "markdown",
   "id": "d2aa453c-6346-4445-bc30-4e0e04650e14",
   "metadata": {},
   "source": [
    "# 2) Write a Python script to add a key to a dictionary. Go to the editor\n",
    "Sample Dictionary : {0: 10, 1: 20}\n",
    "Expected Result : {0: 10, 1: 20, 2: 30} "
   ]
  },
  {
   "cell_type": "code",
   "execution_count": 6,
   "id": "194df2dc-564b-46eb-9b4d-6fc926784b16",
   "metadata": {},
   "outputs": [
    {
     "name": "stdout",
     "output_type": "stream",
     "text": [
      "Updated Dictionary: {0: 10, 1: 20, 2: 30}\n"
     ]
    }
   ],
   "source": [
    "def add_key_to_dict(d, key, value):\n",
    "    d[key] = value\n",
    "    return d\n",
    "\n",
    "# Example\n",
    "sample_dict = {0: 10, 1: 20}\n",
    "updated_dict = add_key_to_dict(sample_dict, 2, 30)\n",
    "\n",
    "print(\"Updated Dictionary:\", updated_dict)\n"
   ]
  },
  {
   "cell_type": "markdown",
   "id": "9b4f771c-16eb-4a3f-8d9d-6b7c2067d1a5",
   "metadata": {},
   "source": [
    "# 3) Write a Python script to merge two Python dictionaries."
   ]
  },
  {
   "cell_type": "code",
   "execution_count": 9,
   "id": "2ec0e738-aa7f-4e5c-bc83-abf359889be8",
   "metadata": {},
   "outputs": [
    {
     "name": "stdout",
     "output_type": "stream",
     "text": [
      "Merged Dictionary: {'a': 1, 'b': 2, 'c': 3, 'd': 4}\n"
     ]
    }
   ],
   "source": [
    "def merge_dictionaries(dict1, dict2):\n",
    "    return {**dict1, **dict2}\n",
    "\n",
    "# Example\n",
    "dict1 = {'a': 1, 'b': 2}\n",
    "dict2 = {'c': 3, 'd': 4}\n",
    "merged_dict = merge_dictionaries(dict1, dict2)\n",
    "\n",
    "print(\"Merged Dictionary:\", merged_dict)\n"
   ]
  },
  {
   "cell_type": "markdown",
   "id": "2aa43cfb-a473-44bc-aec2-b28bc74e138e",
   "metadata": {},
   "source": [
    "# 4) Write a Python program to sum all the items in a dictionary.\n",
    "\n"
   ]
  },
  {
   "cell_type": "code",
   "execution_count": 12,
   "id": "6375336e-9e55-4990-8582-a187d3f5497d",
   "metadata": {},
   "outputs": [
    {
     "name": "stdout",
     "output_type": "stream",
     "text": [
      "Total Sum of Dictionary Values: 600\n"
     ]
    }
   ],
   "source": [
    "def sum_dict_values(d):\n",
    "    return sum(d.values())\n",
    "\n",
    "# Example\n",
    "sample_dict = {'a': 100, 'b': 200, 'c': 300}\n",
    "total_sum = sum_dict_values(sample_dict)\n",
    "\n",
    "print(\"Total Sum of Dictionary Values:\", total_sum)\n"
   ]
  },
  {
   "cell_type": "markdown",
   "id": "7d8b8e5a-a5de-4edb-85ca-1b2d133298b6",
   "metadata": {},
   "source": [
    "# 5) Write a Python program to combine two dictionary adding values for common keys. \n",
    "d1 = {'a': 100, 'b': 200, 'c':300}\n",
    "d2 = {'a': 300, 'b': 200, 'd':400}\n",
    "Sample output: Counter({'a': 400, 'b': 400, 'd': 400, 'c': 300})"
   ]
  },
  {
   "cell_type": "code",
   "execution_count": 15,
   "id": "5cd8ef3c-90c5-4e11-89a5-2be7b49c90f5",
   "metadata": {},
   "outputs": [
    {
     "name": "stdout",
     "output_type": "stream",
     "text": [
      "Combined Dictionary: {'a': 400, 'b': 400, 'c': 300, 'd': 400}\n"
     ]
    }
   ],
   "source": [
    "def combine_dictionaries(d1, d2):\n",
    "    from collections import Counter\n",
    "    return dict(Counter(d1) + Counter(d2))\n",
    "\n",
    "# Example\n",
    "d1 = {'a': 100, 'b': 200, 'c': 300}\n",
    "d2 = {'a': 300, 'b': 200, 'd': 400}\n",
    "combined_dict = combine_dictionaries(d1, d2)\n",
    "\n",
    "print(\"Combined Dictionary:\", combined_dict)\n"
   ]
  },
  {
   "cell_type": "markdown",
   "id": "c48c1890-a431-4955-a4e7-b528c66b230b",
   "metadata": {},
   "source": [
    "# 6) Select the all correct way to remove the key ‘marks‘ from a dictionary\n",
    "         student = { \n",
    "  \"name\": \"Emma\", \n",
    "  \"class\": 9, \n",
    "  \"marks\": 75 \n",
    "}\n",
    "a)\tstudent.pop(“marks”)\n",
    "b)\t  del student[“marks”]\n",
    "c)\t  student.popitem()\n",
    "d)\t  dict1.remove(“key2”)"
   ]
  },
  {
   "cell_type": "code",
   "execution_count": 26,
   "id": "bc7affb8-25bc-4ca4-bc9e-97e8f45fe12c",
   "metadata": {},
   "outputs": [
    {
     "name": "stdout",
     "output_type": "stream",
     "text": [
      "After pop: {'name': 'Emma', 'class': 9}\n",
      "After del: {'name': 'Emma', 'class': 9}\n"
     ]
    }
   ],
   "source": [
    "student = { \n",
    "    \"name\": \"Emma\", \n",
    "    \"class\": 9, \n",
    "    \"marks\": 75 \n",
    "}\n",
    "# Using pop to remove 'marks'\n",
    "marks_value = student.pop(\"marks\")  # This will remove 'marks' and return its value\n",
    "print(\"After pop:\", student)\n",
    "\n",
    "# Re-adding for demonstration\n",
    "student[\"marks\"] = 75\n",
    "\n",
    "# Using del to remove 'marks'\n",
    "del student[\"marks\"]  # This will remove 'marks' without returning a value\n",
    "print(\"After del:\", student)\n"
   ]
  },
  {
   "cell_type": "markdown",
   "id": "5250789d-1546-4899-ac91-b33d5f66315c",
   "metadata": {},
   "source": [
    "# 7) Write a Python program to count number of items in a dictionary value that is a list."
   ]
  },
  {
   "cell_type": "code",
   "execution_count": 21,
   "id": "6cc84c11-5067-429c-8bfe-a7cccec0f1a0",
   "metadata": {},
   "outputs": [
    {
     "name": "stdout",
     "output_type": "stream",
     "text": [
      "Count of Items in List Values: 6\n"
     ]
    }
   ],
   "source": [
    "def count_items_in_list_values(d):\n",
    "    return sum(len(v) for v in d.values() if isinstance(v, list))\n",
    "\n",
    "# Example\n",
    "sample_dict = {'a': [1, 2, 3], 'b': [4, 5], 'c': 'not a list', 'd': [6]}\n",
    "item_count = count_items_in_list_values(sample_dict)\n",
    "\n",
    "print(\"Count of Items in List Values:\", item_count)\n"
   ]
  },
  {
   "cell_type": "code",
   "execution_count": null,
   "id": "bf8f949d-49ec-4730-97c6-5fb65faa21c2",
   "metadata": {},
   "outputs": [],
   "source": [
    "# "
   ]
  }
 ],
 "metadata": {
  "kernelspec": {
   "display_name": "Python 3 (ipykernel)",
   "language": "python",
   "name": "python3"
  },
  "language_info": {
   "codemirror_mode": {
    "name": "ipython",
    "version": 3
   },
   "file_extension": ".py",
   "mimetype": "text/x-python",
   "name": "python",
   "nbconvert_exporter": "python",
   "pygments_lexer": "ipython3",
   "version": "3.11.7"
  }
 },
 "nbformat": 4,
 "nbformat_minor": 5
}
